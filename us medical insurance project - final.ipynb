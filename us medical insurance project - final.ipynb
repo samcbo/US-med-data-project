{
 "cells": [
  {
   "cell_type": "markdown",
   "metadata": {},
   "source": [
    "# U.S. Medical Insurance Costs"
   ]
  },
  {
   "cell_type": "code",
   "execution_count": 63,
   "metadata": {},
   "outputs": [],
   "source": [
    "import csv"
   ]
  },
  {
   "cell_type": "code",
   "execution_count": 64,
   "metadata": {},
   "outputs": [],
   "source": [
    "# Save data from file\n",
    "\n",
    "ages = []\n",
    "sexes = []\n",
    "bmis = []\n",
    "num_of_children = []\n",
    "smokers = []\n",
    "regions = []\n",
    "charges = []\n",
    "\n",
    "\n",
    "def format_data(lst, category):\n",
    "    with open(\"insurance.csv\") as insurance_file:\n",
    "        insurance_dict = csv.DictReader(insurance_file)\n",
    "        for row in insurance_dict:\n",
    "            lst.append(row[category])\n",
    "\n"
   ]
  },
  {
   "cell_type": "code",
   "execution_count": 65,
   "metadata": {},
   "outputs": [],
   "source": [
    "format_data(ages, \"age\")\n",
    "format_data(sexes, \"sex\")\n",
    "format_data(bmis, \"bmi\")\n",
    "format_data(num_of_children, \"children\")\n",
    "format_data(smokers, \"smoker\")\n",
    "format_data(regions, \"region\")\n",
    "format_data(charges, \"charges\")"
   ]
  },
  {
   "cell_type": "code",
   "execution_count": 66,
   "metadata": {},
   "outputs": [],
   "source": [
    "#create dictionary of data\n",
    "data_list = [{\"Age\": a, \"Sex\": s, \"BMI\": b, \"Number of children\": c, \"Smoker\": sm, \"Region\": r, \"Charges\": ch} for a, s, b, c, sm, r, ch in zip(ages, sexes, bmis, num_of_children, smokers, regions, charges)]\n",
    "\n",
    "person_number = []\n",
    "number = 1\n",
    "for i in ages:\n",
    "    person_number.append(\"Person number \" + str(number))\n",
    "    number += 1\n",
    "\n",
    "    \n",
    "insurance_dict = {pn : dl for pn, dl in zip(person_number, data_list)}\n",
    "\n"
   ]
  },
  {
   "cell_type": "code",
   "execution_count": 67,
   "metadata": {},
   "outputs": [
    {
     "name": "stdout",
     "output_type": "stream",
     "text": [
      "There are 1338 people in the insurance dataset.\n"
     ]
    }
   ],
   "source": [
    "# find population size\n",
    "total_pop = len(ages)\n",
    "\n",
    "print(\"There are \" + str(total_pop) + \" people in the insurance dataset.\")\n"
   ]
  },
  {
   "cell_type": "code",
   "execution_count": 68,
   "metadata": {},
   "outputs": [
    {
     "name": "stdout",
     "output_type": "stream",
     "text": [
      "There are 676 men in this dataset. \n",
      "They form 50.52% of the total population.\n",
      "There are 662 women in this dataset. \n",
      "They form 49.48% of the total population.\n"
     ]
    }
   ],
   "source": [
    "#find out proportion of men and women.\n",
    "\n",
    "men = 0\n",
    "women = 0\n",
    "sex_not_listed = 0\n",
    "for sex in sexes:\n",
    "    if sex == \"male\":\n",
    "        men += 1\n",
    "    elif sex == \"female\":\n",
    "        women += 1\n",
    "    else:\n",
    "       sex_not_listed += 1\n",
    "percent_men = round(((men / total_pop) * 100), 2)\n",
    "percent_women = round(((women / total_pop) * 100), 2)\n",
    "print(\"There are \" +str(men) + \" men in this dataset. \\nThey form \" + str(percent_men) + \"% of the total population.\")\n",
    "print(\"There are \" +str(women) + \" women in this dataset. \\nThey form \" + str(percent_women) + \"% of the total population.\")\n"
   ]
  },
  {
   "cell_type": "code",
   "execution_count": 69,
   "metadata": {},
   "outputs": [
    {
     "name": "stdout",
     "output_type": "stream",
     "text": [
      "The average age of this dataset is 39 years old.\n"
     ]
    }
   ],
   "source": [
    "#average age\n",
    "\n",
    "total_age = 0\n",
    "\n",
    "for age in ages:\n",
    "    total_age += int(age)\n",
    "\n",
    "average_age = round(total_age / (len(ages)))\n",
    "\n",
    "print(\"The average age of this dataset is \" +str(average_age) + \" years old.\")\n",
    "        "
   ]
  },
  {
   "cell_type": "code",
   "execution_count": 70,
   "metadata": {},
   "outputs": [],
   "source": [
    "#organise dictionary by sex\n",
    "\n",
    "def organise_dict_by_sex(insurance_dict):\n",
    "    insurance_by_sex = dict()\n",
    "    for person in insurance_dict:\n",
    "        current_sex = insurance_dict[person][\"Sex\"]\n",
    "        current_person = insurance_dict[person]\n",
    "        if current_sex not in insurance_by_sex:\n",
    "            insurance_by_sex[current_sex] = [current_person]\n",
    "        else:\n",
    "            insurance_by_sex[current_sex].append(current_person)\n",
    "    return insurance_by_sex"
   ]
  },
  {
   "cell_type": "code",
   "execution_count": 71,
   "metadata": {},
   "outputs": [],
   "source": [
    "insurance_by_sex = organise_dict_by_sex(insurance_dict)"
   ]
  },
  {
   "cell_type": "code",
   "execution_count": 72,
   "metadata": {},
   "outputs": [],
   "source": [
    "# average cost by sex\n",
    "\n",
    "def average_cost_by_sex(insurance_by_sex, sex):\n",
    "    total_cost = 0\n",
    "    position = 0\n",
    "    for person in insurance_by_sex[sex]:\n",
    "        current_charges = int(float(insurance_by_sex[sex][position][\"Charges\"]))\n",
    "        total_cost += current_charges\n",
    "        position += 1\n",
    "    average_by_sex = round(total_cost/ len(insurance_by_sex[sex]))\n",
    "    if sex == \"female\":\n",
    "        return (\"The average cost for women is \" + str(average_by_sex) + \" dollars.\")\n",
    "    elif sex== \"male\":\n",
    "        return (\"The average cost for men is \" + str(average_by_sex) + \" dollars.\")\n",
    "        "
   ]
  },
  {
   "cell_type": "code",
   "execution_count": 73,
   "metadata": {},
   "outputs": [
    {
     "name": "stdout",
     "output_type": "stream",
     "text": [
      "The average cost for women is 12569 dollars.\n"
     ]
    }
   ],
   "source": [
    "print(average_cost_by_sex(insurance_by_sex, \"female\"))"
   ]
  },
  {
   "cell_type": "code",
   "execution_count": 74,
   "metadata": {},
   "outputs": [
    {
     "name": "stdout",
     "output_type": "stream",
     "text": [
      "The average cost for men is 13956 dollars.\n"
     ]
    }
   ],
   "source": [
    "print(average_cost_by_sex(insurance_by_sex, \"male\"))"
   ]
  },
  {
   "cell_type": "code",
   "execution_count": 75,
   "metadata": {},
   "outputs": [],
   "source": [
    "# organise dict by smoker\n",
    "\n",
    "\n",
    "def organise_dict_by_smoker(insurance_dict):\n",
    "    insurance_by_smoker= dict()\n",
    "    for person in insurance_dict:\n",
    "        if insurance_dict[person][\"Smoker\"] ==\"yes\":\n",
    "            current_smoker = \"Smoker\"\n",
    "        elif insurance_dict[person][\"Smoker\"] ==\"no\":\n",
    "            current_smoker = \"Non-smoker\"\n",
    "        current_person = insurance_dict[person]\n",
    "        if current_smoker not in insurance_by_smoker:\n",
    "            insurance_by_smoker[current_smoker] = [current_person]\n",
    "        else:\n",
    "            insurance_by_smoker[current_smoker].append(current_person)\n",
    "    return insurance_by_smoker"
   ]
  },
  {
   "cell_type": "code",
   "execution_count": 83,
   "metadata": {},
   "outputs": [],
   "source": [
    "insurance_by_smoker = organise_dict_by_smoker(insurance_dict)"
   ]
  },
  {
   "cell_type": "code",
   "execution_count": 84,
   "metadata": {},
   "outputs": [],
   "source": [
    "# average cost by smoker\n",
    "\n",
    "def average_cost_by_smoker(insurance_by_smoker, smoker):\n",
    "    total_cost = 0\n",
    "    position = 0\n",
    "    for person in insurance_by_smoker[smoker]:\n",
    "        current_charges = int(float(insurance_by_smoker[smoker][position][\"Charges\"]))\n",
    "        total_cost += current_charges\n",
    "        position += 1\n",
    "    average_by_smoker = round(total_cost/ len(insurance_by_smoker[smoker]))\n",
    "    if smoker == \"Smoker\":\n",
    "        return (\"The average cost for smokers is \" + str(average_by_smoker) + \" dollars.\")\n",
    "    elif smoker== \"Non-smoker\":\n",
    "        return (\"The average cost for non-smokers is \" + str(average_by_smoker) + \" dollars.\")"
   ]
  },
  {
   "cell_type": "code",
   "execution_count": 85,
   "metadata": {},
   "outputs": [
    {
     "name": "stdout",
     "output_type": "stream",
     "text": [
      "The average cost for smokers is 32050 dollars.\n",
      "The average cost for non-smokers is 8434 dollars.\n"
     ]
    }
   ],
   "source": [
    "print(average_cost_by_smoker(insurance_by_smoker, \"Smoker\"))\n",
    "print(average_cost_by_smoker(insurance_by_smoker, \"Non-smoker\"))"
   ]
  },
  {
   "cell_type": "code",
   "execution_count": 86,
   "metadata": {},
   "outputs": [],
   "source": [
    "#proportion of smokers per sex\n",
    "\n",
    "def smokers_by_sex(insurance_by_sex, sex):\n",
    "    total_smokers = 0\n",
    "    position = 0\n",
    "    for person in insurance_by_sex[sex]:\n",
    "        current_smoking_status = insurance_by_sex[sex][position][\"Smoker\"]\n",
    "        if current_smoking_status == \"yes\":\n",
    "            total_smokers += 1\n",
    "        position += 1\n",
    "    if sex == \"male\":\n",
    "        percent_male_smoker = round(((total_smokers/ men) *100), 2)\n",
    "        return (str(percent_male_smoker) + \"% of men in this dataset are smokers.\")\n",
    "    if sex == \"female\":\n",
    "        percent_female_smoker = round(((total_smokers/ women) *100), 2)\n",
    "        return (str(percent_female_smoker) + \"% of women in this dataset are smokers.\")  \n",
    "       "
   ]
  },
  {
   "cell_type": "code",
   "execution_count": 87,
   "metadata": {},
   "outputs": [
    {
     "name": "stdout",
     "output_type": "stream",
     "text": [
      "17.37% of women in this dataset are smokers.\n",
      "23.52% of men in this dataset are smokers.\n"
     ]
    }
   ],
   "source": [
    "print(smokers_by_sex(insurance_by_sex, \"female\"))\n",
    "print(smokers_by_sex(insurance_by_sex, \"male\"))"
   ]
  },
  {
   "cell_type": "code",
   "execution_count": 93,
   "metadata": {},
   "outputs": [],
   "source": [
    "# organise dict by BMI\n",
    "\n",
    "\n",
    "def organise_dict_by_bmi(insurance_dict):\n",
    "    insurance_by_bmi= dict()\n",
    "    for person in insurance_dict:\n",
    "        if float(insurance_dict[person][\"BMI\"]) < 18.5:\n",
    "            current_bmi = \"Underweight\"\n",
    "        elif float(insurance_dict[person][\"BMI\"]) >= 18.5 and float(insurance_dict[person][\"BMI\"]) < 25.0:\n",
    "            current_bmi = \"Healthy weight\"\n",
    "        elif float(insurance_dict[person][\"BMI\"]) >= 25.0 and float(insurance_dict[person][\"BMI\"]) < 30.0:\n",
    "            current_bmi = \"Overweight\"\n",
    "        elif float(insurance_dict[person][\"BMI\"]) >= 30.0:\n",
    "            current_bmi = \"Obese\"\n",
    "        current_person = insurance_dict[person]\n",
    "        if current_bmi not in insurance_by_bmi:\n",
    "            insurance_by_bmi[current_bmi] = [current_person]\n",
    "        else:\n",
    "            insurance_by_bmi[current_bmi].append(current_person)\n",
    "    return insurance_by_bmi"
   ]
  },
  {
   "cell_type": "code",
   "execution_count": 94,
   "metadata": {},
   "outputs": [],
   "source": [
    "insurance_by_bmi = organise_dict_by_bmi(insurance_dict)"
   ]
  },
  {
   "cell_type": "code",
   "execution_count": 97,
   "metadata": {},
   "outputs": [],
   "source": [
    "# average cost by bmi\n",
    "\n",
    "def average_cost_by_bmi(insurance_by_bmi, bmi):\n",
    "    total_cost = 0\n",
    "    position = 0\n",
    "    for person in insurance_by_bmi[bmi]:\n",
    "        current_charges = int(float(insurance_by_bmi[bmi][position][\"Charges\"]))\n",
    "        total_cost += current_charges\n",
    "        position += 1\n",
    "    average_by_bmi = round(total_cost/ len(insurance_by_bmi[bmi]))\n",
    "    if bmi == \"Underweight\":\n",
    "        return (\"The average cost for underweight people is \" + str(average_by_bmi) + \" dollars.\")\n",
    "    elif bmi == \"Healthy weight\":\n",
    "        return (\"The average cost for people with a healthy weight is \" + str(average_by_bmi) + \" dollars.\")\n",
    "    elif bmi == \"Overweight\":\n",
    "        return (\"The average cost for overweight people is \" + str(average_by_bmi) + \" dollars.\")\n",
    "    elif bmi == \"Obese\":\n",
    "        return (\"The average cost for obese people is \" + str(average_by_bmi) + \" dollars.\")"
   ]
  },
  {
   "cell_type": "code",
   "execution_count": 98,
   "metadata": {},
   "outputs": [
    {
     "name": "stdout",
     "output_type": "stream",
     "text": [
      "The average cost for underweight people is 8852 dollars.\n",
      "The average cost for people with a healthy weight is 10409 dollars.\n",
      "The average cost for overweight people is 10987 dollars.\n",
      "The average cost for obese people is 15552 dollars.\n"
     ]
    }
   ],
   "source": [
    "print(average_cost_by_bmi(insurance_by_bmi, \"Underweight\"))\n",
    "print(average_cost_by_bmi(insurance_by_bmi, \"Healthy weight\"))\n",
    "print(average_cost_by_bmi(insurance_by_bmi, \"Overweight\"))\n",
    "print(average_cost_by_bmi(insurance_by_bmi, \"Obese\"))"
   ]
  },
  {
   "cell_type": "code",
   "execution_count": 110,
   "metadata": {},
   "outputs": [],
   "source": [
    "#proportion of each bmi per sex\n",
    "\n",
    "def bmi_by_sex(insurance_by_bmi, bmi):\n",
    "    total_men = 0\n",
    "    total_women = 0\n",
    "    position = 0\n",
    "    for person in insurance_by_bmi[bmi]:\n",
    "        current_sex = insurance_by_bmi[bmi][position][\"Sex\"]\n",
    "        if current_sex == \"male\":\n",
    "            total_men += 1\n",
    "        elif current_sex == \"female\":\n",
    "            total_women += 1\n",
    "        position += 1\n",
    "    percent_male = round(((total_men/ men) *100), 2)\n",
    "    percent_female = round(((total_women/ women) *100), 2)\n",
    "    return (str(percent_male) + \"% of men, and \" + str(percent_female) + \"% of women in this dataset are in the \" + bmi + \" category.\")\n",
    "    \n",
    "    "
   ]
  },
  {
   "cell_type": "code",
   "execution_count": 111,
   "metadata": {},
   "outputs": [
    {
     "name": "stdout",
     "output_type": "stream",
     "text": [
      "1.18% of men, and 1.81% of women in this dataset are in the Underweight category.\n",
      "15.98% of men, and 17.67% of women in this dataset are in the Healthy weight category.\n",
      "27.66% of men, and 30.06% of women in this dataset are in the Overweight category.\n",
      "55.18% of men, and 50.45% of women in this dataset are in the Obese category.\n"
     ]
    }
   ],
   "source": [
    "print(bmi_by_sex(insurance_by_bmi, \"Underweight\"))\n",
    "print(bmi_by_sex(insurance_by_bmi, \"Healthy weight\"))\n",
    "print(bmi_by_sex(insurance_by_bmi, \"Overweight\"))\n",
    "print(bmi_by_sex(insurance_by_bmi, \"Obese\"))"
   ]
  },
  {
   "cell_type": "code",
   "execution_count": null,
   "metadata": {},
   "outputs": [],
   "source": []
  }
 ],
 "metadata": {
  "kernelspec": {
   "display_name": "Python 3 (ipykernel)",
   "language": "python",
   "name": "python3"
  },
  "language_info": {
   "codemirror_mode": {
    "name": "ipython",
    "version": 3
   },
   "file_extension": ".py",
   "mimetype": "text/x-python",
   "name": "python",
   "nbconvert_exporter": "python",
   "pygments_lexer": "ipython3",
   "version": "3.9.7"
  }
 },
 "nbformat": 4,
 "nbformat_minor": 4
}
